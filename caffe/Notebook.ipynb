{
 "cells": [
  {
   "cell_type": "code",
   "execution_count": 57,
   "metadata": {
    "collapsed": true
   },
   "outputs": [],
   "source": [
    "import numpy as np\n",
    "import caffe\n",
    "import MVCNNDataLayerPreTrain"
   ]
  },
  {
   "cell_type": "code",
   "execution_count": 60,
   "metadata": {
    "collapsed": true
   },
   "outputs": [],
   "source": [
    "proto_file = 'alexnet_eval.prototxt'\n",
    "num_itter = 10"
   ]
  },
  {
   "cell_type": "code",
   "execution_count": 62,
   "metadata": {
    "collapsed": false
   },
   "outputs": [
    {
     "name": "stdout",
     "output_type": "stream",
     "text": [
      "mvcnn12_pre_iter_100000.caffemodel: 86.25\n"
     ]
    }
   ],
   "source": [
    "acc = 0\n",
    "weight_file = 'mvcnn12_pre_iter_100000.caffemodel'\n",
    "net = caffe.Net(proto_file,weight_file,caffe.TEST)\n",
    "for itter in range(num_itter):\n",
    "    acc+=net.forward()['accuracy']\n",
    "acc = acc / num_itter\n",
    "print(weight_file + \": \" + str(100*acc))"
   ]
  },
  {
   "cell_type": "code",
   "execution_count": null,
   "metadata": {
    "collapsed": true
   },
   "outputs": [],
   "source": [
    "acc = 0\n",
    "weight_file = 'mvcnn12_pre_iter_200000.caffemodel'\n",
    "net = caffe.Net(proto_file,weight_file,caffe.TEST)\n",
    "for itter in range(num_itter):\n",
    "    acc+=net.forward()['accuracy']\n",
    "acc = acc / num_itter\n",
    "print(weight_file + \": \" + str(100*acc))"
   ]
  },
  {
   "cell_type": "code",
   "execution_count": 63,
   "metadata": {
    "collapsed": false
   },
   "outputs": [
    {
     "name": "stdout",
     "output_type": "stream",
     "text": [
      "mvcnn12_pre_iter_300000.caffemodel: 84.375\n"
     ]
    }
   ],
   "source": [
    "acc = 0\n",
    "weight_file = 'mvcnn12_pre_iter_300000.caffemodel'\n",
    "net = caffe.Net(proto_file,weight_file,caffe.TEST)\n",
    "for itter in range(num_itter):\n",
    "    acc+=net.forward()['accuracy']\n",
    "acc = acc / num_itter\n",
    "print(weight_file + \": \" + str(100*acc))"
   ]
  },
  {
   "cell_type": "code",
   "execution_count": null,
   "metadata": {
    "collapsed": true
   },
   "outputs": [],
   "source": [
    "acc = 0\n",
    "weight_file = 'mvcnn12_pre_iter_400000.caffemodel'\n",
    "net = caffe.Net(proto_file,weight_file,caffe.TEST)\n",
    "for itter in range(num_itter):\n",
    "    acc+=net.forward()['accuracy']\n",
    "acc = acc / num_itter\n",
    "print(weight_file + \": \" + str(100*acc))"
   ]
  }
 ],
 "metadata": {
  "kernelspec": {
   "display_name": "Python 3",
   "language": "python",
   "name": "python3"
  },
  "language_info": {
   "codemirror_mode": {
    "name": "ipython",
    "version": 3
   },
   "file_extension": ".py",
   "mimetype": "text/x-python",
   "name": "python",
   "nbconvert_exporter": "python",
   "pygments_lexer": "ipython3",
   "version": "3.6.5"
  }
 },
 "nbformat": 4,
 "nbformat_minor": 2
}
